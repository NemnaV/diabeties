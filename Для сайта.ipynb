{
 "cells": [
  {
   "cell_type": "code",
   "execution_count": 3,
   "id": "c492ac66",
   "metadata": {},
   "outputs": [],
   "source": [
    "import pandas as pd\n",
    "# import cloudpickle as cp\n",
    "# from urllib.request import urlopen     \n",
    "import pickle"
   ]
  },
  {
   "cell_type": "code",
   "execution_count": 4,
   "id": "72c839d4",
   "metadata": {},
   "outputs": [],
   "source": [
    "def live():\n",
    "    def pred_new(df_test, sm):\n",
    "        model = pickle.loads(sm)\n",
    "        x_raw = df_test.iloc[:, :].values\n",
    "        new_class = model.predict(x_raw)\n",
    "\n",
    "        return new_class\n",
    "    \n",
    "    \n",
    "    model_name = int(input(\"Выберите метод классификации для прогнозирования:\\n 1. Логистическая регрессия \\n 2. Гауссовский наивный баейссовский классификатор \\n 3. Случайный лес \\n\"))\n",
    "    if model_name==1:\n",
    "        model_name = \"lr\"\n",
    "    elif model_name==2:\n",
    "        model_name = \"nb\"\n",
    "    elif model_name==3:\n",
    "        model_name = \"rf\"\n",
    "    \n",
    "    Pregnancies = int(input(\"Укажите, сколько раз Вы были беременны: \"))\n",
    "    Glucose = float(input(\"Укажите уровень глюкозы в мг/дл: \"))\n",
    "    BloodPressure = float(input(\"Укажите кровяное давление в мм рт. ст.: \"))\n",
    "    SkinThickness = float(input(\"Укажите толщину кожи в мм или напишите 0, если не знаете значение этого параметра: \"))\n",
    "    Insulin  = float(input(\"Укажите значение инсулина в мкЕд/мл или напишите 0, если не знаете значение этого параметра: \"))\n",
    "    Height = float(input(\"Укажите рост в см: \"))\n",
    "    Weight = float(input(\"Укажите вес в кг: \"))\n",
    "    DiabetesPedigreeFunction =float(input(\"Укажите значение родословной функции диабета или напишите 0, если не знаете значение этого параметра: \"))\n",
    "    Age = int(input(\"Укажите возраст: \"))  \n",
    "    BMI = Weight / ((Height/100)**2)\n",
    "\n",
    "    data = [[Pregnancies, Glucose, BloodPressure, SkinThickness, Insulin, BMI, DiabetesPedigreeFunction, Age]]\n",
    "    df = pd.DataFrame(data, columns=['Pregnancies', 'Glucose', 'BloodPressure', 'SkinThickness', \n",
    "                                         'Insulin', 'BMI', 'DiabetesPedigreeFunction', 'Age'])\n",
    "\n",
    "    lr_model_5_b = pickle.load(open('/Users/valeria/диплом/сайт/lr_model_5_b.pkl', 'rb'))\n",
    "    lr_model_dpf_b = pickle.load(open('/Users/valeria/диплом/сайт/lr_model_dpf_b.pkl', 'rb'))\n",
    "    lr_models = [lr_model_5_b, lr_model_dpf_b]\n",
    "\n",
    "    nb_rfe_model = pickle.load(open('/Users/valeria/диплом/сайт/nb_rfe_model.pkl', 'rb'))\n",
    "    nb_5_model = pickle.load(open('/Users/valeria/диплом/сайт/nb_5_model.pkl', 'rb'))\n",
    "    nb_models = [nb_rfe_model, nb_5_model]\n",
    "\n",
    "    rf_best_model = pickle.load(open('/Users/valeria/диплом/сайт/rf_best_model.pkl', 'rb'))\n",
    "    rf_dgf_model = pickle.load(open('/Users/valeria/диплом/сайт/rf_dgf_model.pkl', 'rb'))\n",
    "    rf_models = [rf_best_model, rf_dgf_model]\n",
    "\n",
    "    if model_name==\"lr\":\n",
    "        model = lr_models\n",
    "        ac_model = [0.7551, 0.7305]\n",
    "    elif model_name==\"nb\":\n",
    "        model = nb_models\n",
    "        ac_model = [0.7246, 0.7293]\n",
    "    elif model_name==\"rf\":\n",
    "        model = rf_models\n",
    "        ac_model = [0.7111, 0.7198]\n",
    "\n",
    "    if DiabetesPedigreeFunction == 0 or SkinThickness == 0 or Insulin == 0:\n",
    "        df = df.drop(['DiabetesPedigreeFunction', 'SkinThickness', 'Insulin'], axis=1)\n",
    "        result = pred_new(df, model[1])\n",
    "        ac = ac_model[1]\n",
    "    elif model_name == \"lr\" or model_name == \"nb\":\n",
    "        df = df.drop(['Age', 'SkinThickness', 'Insulin'], axis=1)\n",
    "        result = pred_new(df, model[0])\n",
    "        ac = ac_model[0]\n",
    "    elif model_name == \"rf\":\n",
    "        result = pred_new(df, model[0])\n",
    "        ac = ac_model[0]\n",
    "\n",
    "    if result == 0:\n",
    "        print(\"\\n\\nС точностью\", round(ac, 2)*100, \"% у Вас нет диабета 2 типа. Этот сайт не получал рекомендаций от врачей, относитесь к нему как к развлекательному сайту. Для медицинской консультации обратитесь к врачу.\")\n",
    "    elif result == 1:\n",
    "        print(\"\\n\\nС точностью\", round(ac, 2)*100, \"% у Вас есть диабет 2 типа. Пожалуйста, проконсультируйтесь с врачом в ближайшее время! Этот сайт не получал рекомендаций от врачей, относитесь к нему как к развлекательному сайту.\")"
   ]
  },
  {
   "cell_type": "code",
   "execution_count": 5,
   "id": "fe463aa9",
   "metadata": {},
   "outputs": [
    {
     "name": "stdout",
     "output_type": "stream",
     "text": [
      "Выберите метод классификации для прогнозирования:\n",
      " 1. Логистическая регрессия \n",
      " 2. Гауссовский наивный баейссовский классификатор \n",
      " 3. Случайный лес \n",
      "3\n",
      "Укажите, сколько раз Вы были беременны: 3\n",
      "Укажите уровень глюкозы в мг/дл: 80\n",
      "Укажите кровяное давление в мм рт. ст.: 90\n",
      "Укажите толщину кожи в мм или напишите 0, если не знаете значение этого параметра: 10\n",
      "Укажите значение инсулина в мкЕд/мл или напишите 0, если не знаете значение этого параметра: 0\n",
      "Укажите рост в см: 158\n",
      "Укажите вес в кг: 65\n",
      "Укажите значение родословной функции диабета или напишите 0, если не знаете значение этого параметра: 0\n",
      "Укажите возраст: 54\n",
      "\n",
      "\n",
      "С точностью 72.0 % у Вас нет диабета 2 типа. Этот сайт не получал рекомендаций от врачей, относитесь к нему как к развлекательному сайту. Для медицинской консультации обратитесь к врачу.\n"
     ]
    },
    {
     "name": "stderr",
     "output_type": "stream",
     "text": [
      "/Users/valeria/opt/anaconda3/lib/python3.9/site-packages/sklearn/base.py:420: UserWarning: X does not have valid feature names, but RandomForestClassifier was fitted with feature names\n",
      "  warnings.warn(\n"
     ]
    }
   ],
   "source": [
    "live()"
   ]
  },
  {
   "cell_type": "code",
   "execution_count": null,
   "id": "08c5f77d",
   "metadata": {},
   "outputs": [],
   "source": []
  }
 ],
 "metadata": {
  "kernelspec": {
   "display_name": "Python 3 (ipykernel)",
   "language": "python",
   "name": "python3"
  },
  "language_info": {
   "codemirror_mode": {
    "name": "ipython",
    "version": 3
   },
   "file_extension": ".py",
   "mimetype": "text/x-python",
   "name": "python",
   "nbconvert_exporter": "python",
   "pygments_lexer": "ipython3",
   "version": "3.9.13"
  }
 },
 "nbformat": 4,
 "nbformat_minor": 5
}
